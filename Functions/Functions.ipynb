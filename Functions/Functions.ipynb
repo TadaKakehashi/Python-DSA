{
 "cells": [
  {
   "cell_type": "markdown",
   "id": "c7728bca-74ee-4b5f-9a2a-574309a5b99a",
   "metadata": {},
   "source": [
    "## Functions in Python\n"
   ]
  },
  {
   "cell_type": "markdown",
   "id": "dac45fe6-3c19-40e7-a97e-104bdd669fc4",
   "metadata": {},
   "source": [
    "Function is a block of code that performs a specific task. Functions help in organizing code, reusing code and improving readability"
   ]
  },
  {
   "cell_type": "code",
   "execution_count": 1,
   "id": "f5c35906-815a-4e13-a01f-9706580a633a",
   "metadata": {},
   "outputs": [],
   "source": [
    "def function_name(parameters):\n",
    "    \"\"\"DocString\"\"\" #it is used in every function to let others know what this function actually does\n",
    "    #Function Body\n",
    "    "
   ]
  },
  {
   "cell_type": "code",
   "execution_count": 4,
   "id": "91a0e02d-4b1b-4d16-9afd-5b9bed4417da",
   "metadata": {},
   "outputs": [
    {
     "name": "stdout",
     "output_type": "stream",
     "text": [
      "11 is odd\n"
     ]
    }
   ],
   "source": [
    "# why functions are required?\n",
    "\"\"\"This function finds even or odd\"\"\"\n",
    "def even_check(num):\n",
    "    if(num%2==0):\n",
    "        print(f\"{num} is even\")\n",
    "    else:\n",
    "        print(f\"{num} is odd\")\n",
    "\n",
    "\n",
    "even_check(11) ## call function"
   ]
  },
  {
   "cell_type": "code",
   "execution_count": 5,
   "id": "32a1fd22-ffdd-45e8-910b-d97ab0edf1fb",
   "metadata": {},
   "outputs": [
    {
     "name": "stdout",
     "output_type": "stream",
     "text": [
      "7\n"
     ]
    }
   ],
   "source": [
    "## Functions with multiple parameters\n",
    "\n",
    "def add(a,b):\n",
    "    return a+b\n",
    "\n",
    "result = add(3,4)\n",
    "print(result)\n"
   ]
  },
  {
   "cell_type": "code",
   "execution_count": 8,
   "id": "a443ba59-a8b0-4869-8f8c-c23d98ab6e6d",
   "metadata": {},
   "outputs": [
    {
     "name": "stdout",
     "output_type": "stream",
     "text": [
      "Hello Guest\n"
     ]
    }
   ],
   "source": [
    "## Default Parameters\n",
    "\n",
    "def greet(name = \"Guest\"):\n",
    "    print(f\"Hello {name}\")\n",
    "\n",
    "greet()"
   ]
  },
  {
   "cell_type": "code",
   "execution_count": 12,
   "id": "a9ad3fa9-eec9-4d55-827e-fa8490eca24c",
   "metadata": {},
   "outputs": [
    {
     "name": "stdout",
     "output_type": "stream",
     "text": [
      "1\n",
      "2\n",
      "3\n",
      "4\n",
      "5\n",
      "6\n",
      "7\n",
      "8\n",
      "Tada\n"
     ]
    }
   ],
   "source": [
    "### Variable Length Arguments\n",
    "## Postional And Keyword Arguments\n",
    "\n",
    "def print_num(*args): #args is a positional argument \n",
    "    for numbers in args:\n",
    "            print(numbers)\n",
    "\n",
    "print_num(1,2,3,4,5,6,7,8,\"Tada\")"
   ]
  },
  {
   "cell_type": "code",
   "execution_count": 13,
   "id": "79d9afae-5050-4c97-a771-5739f586eb26",
   "metadata": {},
   "outputs": [],
   "source": [
    "## Keywords Arguments\n",
    "\n",
    "def print_details(**kwargs): #all the parameters will be in key value pairs\n",
    "    for key,value in kwargs.items():\n",
    "        print(f\"{key}:{value}\")\n",
    "    "
   ]
  },
  {
   "cell_type": "code",
   "execution_count": 14,
   "id": "fcc4853d-23c4-4b4b-b7e8-4cca640ea39e",
   "metadata": {},
   "outputs": [
    {
     "name": "stdout",
     "output_type": "stream",
     "text": [
      "name:Tada\n",
      "age:18\n",
      "country:India\n"
     ]
    }
   ],
   "source": [
    "print_details(name =\"Tada\",age=18,country=\"India\")"
   ]
  },
  {
   "cell_type": "code",
   "execution_count": 18,
   "id": "8c07d0bc-1310-49a7-ab96-be8f8ececab2",
   "metadata": {},
   "outputs": [],
   "source": [
    "def print_details(*args ,**kwargs): \n",
    "    for val in args:\n",
    "        print(f\"Positional Argument: {val}\")\n",
    "\n",
    "    print()\n",
    "    for key,value in kwargs.items():\n",
    "        print(f\"{key}:{value}\")"
   ]
  },
  {
   "cell_type": "code",
   "execution_count": 19,
   "id": "bda569f0-3ee9-4043-b711-34af8290893d",
   "metadata": {},
   "outputs": [
    {
     "name": "stdout",
     "output_type": "stream",
     "text": [
      "Positional Argument: 1\n",
      "Positional Argument: 2\n",
      "Positional Argument: 3\n",
      "Positional Argument: 4\n",
      "\n",
      "name:Tada\n",
      "age:18\n",
      "country:India\n"
     ]
    }
   ],
   "source": [
    "print_details(1,2,3,4,name =\"Tada\",age=18,country=\"India\")"
   ]
  },
  {
   "cell_type": "code",
   "execution_count": 20,
   "id": "60465dc6-a8df-4390-a956-322891e40662",
   "metadata": {},
   "outputs": [
    {
     "data": {
      "text/plain": [
       "(6, 2)"
      ]
     },
     "execution_count": 20,
     "metadata": {},
     "output_type": "execute_result"
    }
   ],
   "source": [
    "## Return Statements : our function returns something at the end of the execution of the function\n",
    "# we can return multiple parameters\n",
    "def multiply(a,b):\n",
    "    return a*b,a\n",
    "\n",
    "multiply(2,3)"
   ]
  },
  {
   "cell_type": "code",
   "execution_count": null,
   "id": "a95caebb-4542-40d9-95b1-ed9d4faccb9e",
   "metadata": {},
   "outputs": [],
   "source": []
  }
 ],
 "metadata": {
  "kernelspec": {
   "display_name": "Python 3 (ipykernel)",
   "language": "python",
   "name": "python3"
  },
  "language_info": {
   "codemirror_mode": {
    "name": "ipython",
    "version": 3
   },
   "file_extension": ".py",
   "mimetype": "text/x-python",
   "name": "python",
   "nbconvert_exporter": "python",
   "pygments_lexer": "ipython3",
   "version": "3.13.5"
  }
 },
 "nbformat": 4,
 "nbformat_minor": 5
}
