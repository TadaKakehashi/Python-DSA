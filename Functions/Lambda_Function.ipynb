{
 "cells": [
  {
   "cell_type": "markdown",
   "id": "5b679a0f-83fa-4781-bdbd-d6f5910f02b2",
   "metadata": {},
   "source": [
    "## Lambda Functions\n",
    "Lambda Functions are small anonymous functions defined using the lambda keyword. They can have any number of arguments but only one expression.\n",
    "They are commonly used for short operations or as arguments to higher-order functions.\n"
   ]
  },
  {
   "cell_type": "code",
   "execution_count": 1,
   "id": "61e6f26a-278c-47ab-96a6-40d908c27329",
   "metadata": {},
   "outputs": [
    {
     "data": {
      "text/plain": [
       "<function __main__.<lambda>(arguments)>"
      ]
     },
     "execution_count": 1,
     "metadata": {},
     "output_type": "execute_result"
    }
   ],
   "source": [
    "#Syntax\n",
    "lambda arguments: expression"
   ]
  },
  {
   "cell_type": "code",
   "execution_count": 2,
   "id": "e99c1f5f-3492-462e-bec5-7f83106f9b09",
   "metadata": {},
   "outputs": [],
   "source": [
    "def addition(a,b):\n",
    "    return a+b"
   ]
  },
  {
   "cell_type": "code",
   "execution_count": 3,
   "id": "805668e7-542c-445c-b554-3d61811540a1",
   "metadata": {},
   "outputs": [
    {
     "data": {
      "text/plain": [
       "5"
      ]
     },
     "execution_count": 3,
     "metadata": {},
     "output_type": "execute_result"
    }
   ],
   "source": [
    "addition(2,3)"
   ]
  },
  {
   "cell_type": "code",
   "execution_count": 7,
   "id": "32e11066-a4b9-4dc1-a6c5-bf9e96e204f7",
   "metadata": {},
   "outputs": [
    {
     "name": "stdout",
     "output_type": "stream",
     "text": [
      "<class 'function'>\n",
      "11\n"
     ]
    }
   ],
   "source": [
    "addition = lambda a,b: a+b\n",
    "print(type(addition))\n",
    "print(addition(5,6))"
   ]
  },
  {
   "cell_type": "code",
   "execution_count": 9,
   "id": "c929b94e-d3d7-4d29-b86f-314d5ffaa9c5",
   "metadata": {},
   "outputs": [
    {
     "data": {
      "text/plain": [
       "False"
      ]
     },
     "execution_count": 9,
     "metadata": {},
     "output_type": "execute_result"
    }
   ],
   "source": [
    "def even(num):\n",
    "    if num%2 == 0:\n",
    "        return True\n",
    "    else:\n",
    "        return False\n",
    "\n",
    "even(21)"
   ]
  },
  {
   "cell_type": "code",
   "execution_count": 10,
   "id": "4fcb998f-2e24-4f3f-b154-c212659b8374",
   "metadata": {},
   "outputs": [
    {
     "data": {
      "text/plain": [
       "True"
      ]
     },
     "execution_count": 10,
     "metadata": {},
     "output_type": "execute_result"
    }
   ],
   "source": [
    "even_check = lambda num:num%2 == 0\n",
    "even_check(10)"
   ]
  },
  {
   "cell_type": "code",
   "execution_count": 11,
   "id": "aa49ea78-e357-4de7-9ccd-a4fdcd019b67",
   "metadata": {},
   "outputs": [
    {
     "data": {
      "text/plain": [
       "60"
      ]
     },
     "execution_count": 11,
     "metadata": {},
     "output_type": "execute_result"
    }
   ],
   "source": [
    "def addition(x,y,z):\n",
    "    return x+y+z\n",
    "\n",
    "addition(10,20,30)"
   ]
  },
  {
   "cell_type": "code",
   "execution_count": 12,
   "id": "bc0442de-2c87-4a27-9f9f-935c760bc0df",
   "metadata": {},
   "outputs": [
    {
     "data": {
      "text/plain": [
       "60"
      ]
     },
     "execution_count": 12,
     "metadata": {},
     "output_type": "execute_result"
    }
   ],
   "source": [
    "addition1 = lambda x,y,z: x+y+z\n",
    "addition1(10,20,30)"
   ]
  },
  {
   "cell_type": "markdown",
   "id": "ee38ce8d-1311-4821-bf66-8cae0d9e0089",
   "metadata": {},
   "source": [
    "## Lambda functions are used where we have a single expression for a function which saves time and lines of code"
   ]
  },
  {
   "cell_type": "code",
   "execution_count": 14,
   "id": "f02f29e0-9f87-467e-ac24-027ea92e9b27",
   "metadata": {},
   "outputs": [
    {
     "data": {
      "text/plain": [
       "4"
      ]
     },
     "execution_count": 14,
     "metadata": {},
     "output_type": "execute_result"
    }
   ],
   "source": [
    "## map() - it applies a function to all items in a list\n",
    "numbers = [1,2,3,4,5]\n",
    "\n",
    "#sq of each and every number in the list\n",
    "\n",
    "def square(number):\n",
    "    return number**2\n",
    "\n",
    "square(2)"
   ]
  },
  {
   "cell_type": "code",
   "execution_count": 17,
   "id": "0794f736-6634-4e1e-9391-e0125cf56be8",
   "metadata": {},
   "outputs": [
    {
     "data": {
      "text/plain": [
       "[1, 4, 9, 16, 25]"
      ]
     },
     "execution_count": 17,
     "metadata": {},
     "output_type": "execute_result"
    }
   ],
   "source": [
    "list(map(lambda x:x**2, numbers))"
   ]
  },
  {
   "cell_type": "code",
   "execution_count": null,
   "id": "aba8a92b-2cf3-4f5e-8d24-76449bf5c367",
   "metadata": {},
   "outputs": [],
   "source": []
  }
 ],
 "metadata": {
  "kernelspec": {
   "display_name": "Python 3 (ipykernel)",
   "language": "python",
   "name": "python3"
  },
  "language_info": {
   "codemirror_mode": {
    "name": "ipython",
    "version": 3
   },
   "file_extension": ".py",
   "mimetype": "text/x-python",
   "name": "python",
   "nbconvert_exporter": "python",
   "pygments_lexer": "ipython3",
   "version": "3.13.5"
  }
 },
 "nbformat": 4,
 "nbformat_minor": 5
}
