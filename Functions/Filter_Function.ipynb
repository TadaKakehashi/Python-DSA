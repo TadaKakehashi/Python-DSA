{
 "cells": [
  {
   "cell_type": "markdown",
   "id": "defbb432-14ea-4468-a4cb-5f63d9ddb3fd",
   "metadata": {},
   "source": [
    "## Filter Function\n",
    "The filter function constructs an iterator from elements of an iterable for which a function returns true. It is used to filter out items from a list (or any other iterable) based on a condition."
   ]
  },
  {
   "cell_type": "code",
   "execution_count": 1,
   "id": "2374fc2c-a613-4b5b-8cfb-86c11a4c4511",
   "metadata": {},
   "outputs": [],
   "source": [
    "def even(num):\n",
    "    if num%2 == 0:\n",
    "        return True"
   ]
  },
  {
   "cell_type": "code",
   "execution_count": 2,
   "id": "46e5aea0-2707-4188-9905-fdf374c382c4",
   "metadata": {},
   "outputs": [
    {
     "data": {
      "text/plain": [
       "True"
      ]
     },
     "execution_count": 2,
     "metadata": {},
     "output_type": "execute_result"
    }
   ],
   "source": [
    "even(10)"
   ]
  },
  {
   "cell_type": "code",
   "execution_count": 3,
   "id": "d510bd7c-5209-4574-a2ee-34c1de7203f2",
   "metadata": {},
   "outputs": [
    {
     "data": {
      "text/plain": [
       "[2, 4, 6, 8]"
      ]
     },
     "execution_count": 3,
     "metadata": {},
     "output_type": "execute_result"
    }
   ],
   "source": [
    "lst = [1,2,3,4,5,6,7,8]\n",
    "list(filter(even, lst)) #first parameter is function, second parameter is list"
   ]
  },
  {
   "cell_type": "code",
   "execution_count": 5,
   "id": "815c356f-3da3-47ff-8598-91e17e858145",
   "metadata": {},
   "outputs": [
    {
     "name": "stdout",
     "output_type": "stream",
     "text": [
      "[6, 7, 8]\n"
     ]
    }
   ],
   "source": [
    "## Filter with a lambda function\n",
    "numbers = [1,2,3,4,5,6,7,8]\n",
    "\n",
    "greater_than_five = list(filter(lambda x:x>5, numbers))\n",
    "print(greater_than_five)"
   ]
  },
  {
   "cell_type": "code",
   "execution_count": 8,
   "id": "93c95ea9-4807-4065-afb3-e482e185dfaf",
   "metadata": {},
   "outputs": [
    {
     "name": "stdout",
     "output_type": "stream",
     "text": [
      "[6, 8, 10]\n"
     ]
    }
   ],
   "source": [
    "## Filter with a lambda function and multiple conditions\n",
    "numbers = [1,2,3,4,5,6,7,8,9,10]\n",
    "even_and_gret_than_five = list(filter(lambda x:x>5 and x%2 == 0,numbers))\n",
    "print(even_and_gret_than_five)"
   ]
  },
  {
   "cell_type": "code",
   "execution_count": 9,
   "id": "8f5b6539-81a7-4a8e-97cf-cf3412e2603b",
   "metadata": {},
   "outputs": [
    {
     "data": {
      "text/plain": [
       "[{'name': 'Tada', 'age': 32}, {'name': 'Aryan', 'age': 30}]"
      ]
     },
     "execution_count": 9,
     "metadata": {},
     "output_type": "execute_result"
    }
   ],
   "source": [
    "## Filter to check if the age is greater than 25 in dictionaries\n",
    "people = [\n",
    "    {\"name\": \"Tada\", \"age\":32},\n",
    "    {\"name\": \"Ray\", \"age\":20},\n",
    "    {\"name\": \"Aryan\", \"age\":30}\n",
    "]\n",
    "\n",
    "def age_greater_than_25(person):\n",
    "    return person['age']>25\n",
    "\n",
    "list(filter(age_greater_than_25,people))"
   ]
  },
  {
   "cell_type": "markdown",
   "id": "d6649ea4-8440-4642-85af-de432dfe8589",
   "metadata": {},
   "source": [
    "## Conclusion:\n",
    "The filter function is a powerful tool for creating iterators that filter items out of an iterable based on a function. It is commonly used for data cleaning, filtering objects, and removing unwanted elements from lists. By mastering filter(), you can write more concise and efficiet code for processing and manipulating collections in Python"
   ]
  },
  {
   "cell_type": "code",
   "execution_count": null,
   "id": "1faae4c1-bda7-4484-84f3-46e2f6dcedf3",
   "metadata": {},
   "outputs": [],
   "source": []
  }
 ],
 "metadata": {
  "kernelspec": {
   "display_name": "Python 3 (ipykernel)",
   "language": "python",
   "name": "python3"
  },
  "language_info": {
   "codemirror_mode": {
    "name": "ipython",
    "version": 3
   },
   "file_extension": ".py",
   "mimetype": "text/x-python",
   "name": "python",
   "nbconvert_exporter": "python",
   "pygments_lexer": "ipython3",
   "version": "3.13.5"
  }
 },
 "nbformat": 4,
 "nbformat_minor": 5
}
