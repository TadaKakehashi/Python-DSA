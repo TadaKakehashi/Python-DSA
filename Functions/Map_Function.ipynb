{
 "cells": [
  {
   "cell_type": "markdown",
   "id": "51fcdc65-5d9e-43cd-80a9-698bc9f56f1e",
   "metadata": {},
   "source": [
    "## Map() Function\n",
    "The map() function applies a given function to all items in an input list (or any other iterable) and returns a map object (an iterator).\n",
    "This is particularly useful for transforming data in a list comprehensively."
   ]
  },
  {
   "cell_type": "code",
   "execution_count": 1,
   "id": "004f632b-2498-431d-969d-a86a6d2407a2",
   "metadata": {},
   "outputs": [
    {
     "data": {
      "text/plain": [
       "4"
      ]
     },
     "execution_count": 1,
     "metadata": {},
     "output_type": "execute_result"
    }
   ],
   "source": [
    "def square(x):\n",
    "    return x*x\n",
    "square(2)"
   ]
  },
  {
   "cell_type": "code",
   "execution_count": 4,
   "id": "3416b01d-bfb3-4348-8950-89df8181a614",
   "metadata": {},
   "outputs": [
    {
     "data": {
      "text/plain": [
       "[1, 4, 9, 16, 25, 36, 49, 64]"
      ]
     },
     "execution_count": 4,
     "metadata": {},
     "output_type": "execute_result"
    }
   ],
   "source": [
    "numbers = [1,2,3,4,5,6,7,8]\n",
    "\n",
    "list(map(square, numbers)) # map would take each number and use the function to perform the square operation"
   ]
  },
  {
   "cell_type": "code",
   "execution_count": 6,
   "id": "d31ad4c3-2c89-40b6-887a-7129742dfafe",
   "metadata": {},
   "outputs": [
    {
     "data": {
      "text/plain": [
       "[1, 4, 9, 16, 25, 36, 49, 64]"
      ]
     },
     "execution_count": 6,
     "metadata": {},
     "output_type": "execute_result"
    }
   ],
   "source": [
    "## Lambda Function with map\n",
    "numbers = [1,2,3,4,5,6,7,8]\n",
    "list(map(lambda x:x*x, numbers))"
   ]
  },
  {
   "cell_type": "code",
   "execution_count": 8,
   "id": "92775cf5-6895-41ef-898d-e158f61d7d96",
   "metadata": {},
   "outputs": [
    {
     "name": "stdout",
     "output_type": "stream",
     "text": [
      "[5, 7, 9]\n"
     ]
    }
   ],
   "source": [
    "### Mapping mulitple iterables\n",
    "numbers1 = [1,2,3]\n",
    "numbers2 = [4,5,6]\n",
    "\n",
    "added_numbers = list(map(lambda x,y: x+y, numbers1,numbers2))\n",
    "print(added_numbers)"
   ]
  },
  {
   "cell_type": "code",
   "execution_count": 10,
   "id": "a992cc25-7d91-41a5-8802-f210eb0ab66c",
   "metadata": {},
   "outputs": [
    {
     "name": "stdout",
     "output_type": "stream",
     "text": [
      "[1, 2, 3, 4]\n"
     ]
    }
   ],
   "source": [
    "## map() to convert a list of strings to integers\n",
    "# use map to convert strings to integers\n",
    "\n",
    "str_numbers = ['1','2','3','4']\n",
    "int_numbers = list(map(int, str_numbers))\n",
    "print(int_numbers)"
   ]
  },
  {
   "cell_type": "code",
   "execution_count": 12,
   "id": "f9a4b35a-a412-4ab8-b2c8-7b29eb01ae7b",
   "metadata": {},
   "outputs": [
    {
     "name": "stdout",
     "output_type": "stream",
     "text": [
      "['APPLE', 'CHERRY', 'TOMATO']\n"
     ]
    }
   ],
   "source": [
    "words = ['apple','cherry','tomato']\n",
    "upper_words = list(map(str.upper,words))\n",
    "print(upper_words)"
   ]
  },
  {
   "cell_type": "code",
   "execution_count": 15,
   "id": "2ba88035-d81a-4213-acae-7356d9576d27",
   "metadata": {},
   "outputs": [
    {
     "data": {
      "text/plain": [
       "['Tada', 'Ray', 'Aryan']"
      ]
     },
     "execution_count": 15,
     "metadata": {},
     "output_type": "execute_result"
    }
   ],
   "source": [
    "def get_name(person):\n",
    "    return person['name']\n",
    "\n",
    "people = [\n",
    "    {\"name\": \"Tada\", \"age\":32},\n",
    "    {\"name\": \"Ray\", \"age\":32},\n",
    "    {\"name\": \"Aryan\", \"age\":32}\n",
    "]\n",
    "\n",
    "list(map(get_name,people))"
   ]
  },
  {
   "cell_type": "markdown",
   "id": "dc614b7a-dc01-48ad-b3ec-9b51d1943d76",
   "metadata": {},
   "source": [
    "### Conclusion\n",
    "The map() function is a powerful tool for apl"
   ]
  }
 ],
 "metadata": {
  "kernelspec": {
   "display_name": "Python 3 (ipykernel)",
   "language": "python",
   "name": "python3"
  },
  "language_info": {
   "codemirror_mode": {
    "name": "ipython",
    "version": 3
   },
   "file_extension": ".py",
   "mimetype": "text/x-python",
   "name": "python",
   "nbconvert_exporter": "python",
   "pygments_lexer": "ipython3",
   "version": "3.13.5"
  }
 },
 "nbformat": 4,
 "nbformat_minor": 5
}
